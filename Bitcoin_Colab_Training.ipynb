{
  "nbformat": 4,
  "nbformat_minor": 0,
  "metadata": {
    "colab": {
      "provenance": [],
      "authorship_tag": "ABX9TyPgog+dU6BrPLsbzsdIw8RF",
      "include_colab_link": true
    },
    "kernelspec": {
      "name": "python3",
      "display_name": "Python 3"
    },
    "language_info": {
      "name": "python"
    }
  },
  "cells": [
    {
      "cell_type": "markdown",
      "metadata": {
        "id": "view-in-github",
        "colab_type": "text"
      },
      "source": [
        "<a href=\"https://colab.research.google.com/github/Reckonchamp12/AI-Bitcoin-Project/blob/main/Bitcoin_Colab_Training.ipynb\" target=\"_parent\"><img src=\"https://colab.research.google.com/assets/colab-badge.svg\" alt=\"Open In Colab\"/></a>"
      ]
    },
    {
      "cell_type": "code",
      "execution_count": 1,
      "metadata": {
        "id": "VQFu9sLXVlhk"
      },
      "outputs": [],
      "source": [
        "import numpy as np\n",
        "import pandas as pd\n",
        "import torch\n",
        "import torch.nn as nn\n",
        "import torch.optim as optim\n",
        "from sklearn.preprocessing import MinMaxScaler\n",
        "from google.colab import drive"
      ]
    },
    {
      "cell_type": "code",
      "source": [
        "# Mount Google Drive to save models\n",
        "drive.mount('/content/drive')"
      ],
      "metadata": {
        "colab": {
          "base_uri": "https://localhost:8080/"
        },
        "id": "tYqNCwhsV__3",
        "outputId": "8b1088b5-fb20-43e1-a927-a92aacd3de11"
      },
      "execution_count": 2,
      "outputs": [
        {
          "output_type": "stream",
          "name": "stdout",
          "text": [
            "Mounted at /content/drive\n"
          ]
        }
      ]
    },
    {
      "cell_type": "code",
      "source": [
        "# Load Bitcoin data\n",
        "DATA_URL = \"https://www.cryptodatadownload.com/cdd/Bitstamp_BTCUSD_d.csv\"\n",
        "df = pd.read_csv(DATA_URL, skiprows=1)\n",
        "df = df[::-1]  # Reverse order\n",
        "df = df[['date', 'close']]\n",
        "df['date'] = pd.to_datetime(df['date'])\n",
        "df.set_index('date', inplace=True)"
      ],
      "metadata": {
        "id": "t82FGBScWHpO"
      },
      "execution_count": 3,
      "outputs": []
    },
    {
      "cell_type": "code",
      "source": [
        "# Normalize data\n",
        "scaler = MinMaxScaler()\n",
        "data = scaler.fit_transform(df['close'].values.reshape(-1, 1))"
      ],
      "metadata": {
        "id": "kVW2sQ9AWVi2"
      },
      "execution_count": 4,
      "outputs": []
    },
    {
      "cell_type": "code",
      "source": [
        "# Create dataset for LSTM\n",
        "def create_sequences(data, seq_length=30):\n",
        "    sequences = []\n",
        "    labels = []\n",
        "    for i in range(len(data) - seq_length):\n",
        "        sequences.append(data[i:i+seq_length])\n",
        "        labels.append(data[i+seq_length])\n",
        "    return np.array(sequences), np.array(labels)\n",
        "\n",
        "seq_length = 30\n",
        "X, y = create_sequences(data, seq_length)\n",
        "X = torch.FloatTensor(X)\n",
        "y = torch.FloatTensor(y)\n"
      ],
      "metadata": {
        "id": "lQWugVW2WaXw"
      },
      "execution_count": 5,
      "outputs": []
    },
    {
      "cell_type": "code",
      "source": [
        "class BitcoinLSTM(nn.Module):\n",
        "    def __init__(self, input_size=1, hidden_size=50, num_layers=2, output_size=1):\n",
        "        super(BitcoinLSTM, self).__init__()\n",
        "        self.lstm = nn.LSTM(input_size, hidden_size, num_layers, batch_first=True)\n",
        "        self.fc = nn.Linear(hidden_size, output_size)\n",
        "\n",
        "    def forward(self, x):\n",
        "        out, _ = self.lstm(x)\n",
        "        out = self.fc(out[:, -1, :])\n",
        "        return out\n"
      ],
      "metadata": {
        "id": "RE8mM2N1WcwM"
      },
      "execution_count": 6,
      "outputs": []
    },
    {
      "cell_type": "code",
      "source": [
        "# Initialize model, loss function, optimizer\n",
        "model = BitcoinLSTM()\n",
        "criterion = nn.MSELoss()\n",
        "optimizer = optim.Adam(model.parameters(), lr=0.001)"
      ],
      "metadata": {
        "id": "dTACx-rLWq5P"
      },
      "execution_count": 7,
      "outputs": []
    },
    {
      "cell_type": "code",
      "source": [
        "# Train Model\n",
        "epochs = 10\n",
        "for epoch in range(epochs):\n",
        "    optimizer.zero_grad()\n",
        "    output = model(X)\n",
        "    loss = criterion(output, y)\n",
        "    loss.backward()\n",
        "    optimizer.step()\n",
        "    print(f\"Epoch {epoch+1}/{epochs}, Loss: {loss.item():.6f}\")\n"
      ],
      "metadata": {
        "colab": {
          "base_uri": "https://localhost:8080/"
        },
        "id": "-LPrO7VuWwEi",
        "outputId": "d2f1c9ba-5bb3-4eec-a6ca-65af9b195c28"
      },
      "execution_count": 8,
      "outputs": [
        {
          "output_type": "stream",
          "name": "stdout",
          "text": [
            "Epoch 1/10, Loss: 0.138277\n",
            "Epoch 2/10, Loss: 0.126017\n",
            "Epoch 3/10, Loss: 0.114675\n",
            "Epoch 4/10, Loss: 0.104136\n",
            "Epoch 5/10, Loss: 0.094324\n",
            "Epoch 6/10, Loss: 0.085182\n",
            "Epoch 7/10, Loss: 0.076675\n",
            "Epoch 8/10, Loss: 0.068800\n",
            "Epoch 9/10, Loss: 0.061597\n",
            "Epoch 10/10, Loss: 0.055163\n"
          ]
        }
      ]
    },
    {
      "cell_type": "code",
      "source": [],
      "metadata": {
        "id": "9vgsOsfwbz-5"
      },
      "execution_count": null,
      "outputs": []
    },
    {
      "cell_type": "code",
      "source": [
        "\n",
        "# Save trained model to Google Drive\n",
        "torch.save(model.state_dict(), '/content/drive/MyDrive/bitcoin_lstm.pth')\n",
        "print(\"Model saved to Google Drive!\")\n"
      ],
      "metadata": {
        "colab": {
          "base_uri": "https://localhost:8080/"
        },
        "id": "lU0NdiVsWyoR",
        "outputId": "88db841e-68af-46e6-fc0d-f478fe7ccfc8"
      },
      "execution_count": 9,
      "outputs": [
        {
          "output_type": "stream",
          "name": "stdout",
          "text": [
            "Model saved to Google Drive!\n"
          ]
        }
      ]
    },
    {
      "cell_type": "code",
      "source": [],
      "metadata": {
        "id": "SgcpId9-W4tt"
      },
      "execution_count": null,
      "outputs": []
    }
  ]
}